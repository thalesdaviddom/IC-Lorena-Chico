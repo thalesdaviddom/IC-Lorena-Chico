{
  "cells": [
    {
      "cell_type": "markdown",
      "metadata": {
        "id": "view-in-github",
        "colab_type": "text"
      },
      "source": [
        "<a href=\"https://colab.research.google.com/github/thalesdaviddom/IC-Lorena-Chico/blob/main/Citation_network_creation.ipynb\" target=\"_parent\"><img src=\"https://colab.research.google.com/assets/colab-badge.svg\" alt=\"Open In Colab\"/></a>"
      ]
    },
    {
      "cell_type": "markdown",
      "source": [
        "Esse código foi usado para a produçao de uma rede de citaçoes composta pelos artigos obtidos na platforma scopus usando os dados do OpenAlex. Primeiro baixamos as bibliotecas necessárias e importamos o google drive:"
      ],
      "metadata": {
        "id": "a_PfiN9L4cnY"
      }
    },
    {
      "cell_type": "code",
      "execution_count": null,
      "metadata": {
        "colab": {
          "base_uri": "https://localhost:8080/"
        },
        "id": "ZWEencF8R1wR",
        "outputId": "3459f167-1f74-49ca-8720-c0730e1f7e59"
      },
      "outputs": [
        {
          "output_type": "stream",
          "name": "stdout",
          "text": [
            "Mounted at /content/drive\n"
          ]
        }
      ],
      "source": [
        "from google.colab import drive\n",
        "drive.mount('/content/drive')"
      ]
    },
    {
      "cell_type": "code",
      "execution_count": null,
      "metadata": {
        "colab": {
          "base_uri": "https://localhost:8080/"
        },
        "id": "dN5xNwcVSCBr",
        "outputId": "ffe3f152-6c78-4ce3-b0b4-98a8ec7586d7"
      },
      "outputs": [
        {
          "output_type": "stream",
          "name": "stdout",
          "text": [
            "Requirement already satisfied: pandas in /usr/local/lib/python3.11/dist-packages (2.2.2)\n",
            "Requirement already satisfied: networkx in /usr/local/lib/python3.11/dist-packages (3.4.2)\n",
            "Requirement already satisfied: matplotlib in /usr/local/lib/python3.11/dist-packages (3.10.0)\n",
            "Collecting pyalex\n",
            "  Downloading pyalex-0.15.1-py3-none-any.whl.metadata (13 kB)\n",
            "Requirement already satisfied: numpy>=1.23.2 in /usr/local/lib/python3.11/dist-packages (from pandas) (1.26.4)\n",
            "Requirement already satisfied: python-dateutil>=2.8.2 in /usr/local/lib/python3.11/dist-packages (from pandas) (2.8.2)\n",
            "Requirement already satisfied: pytz>=2020.1 in /usr/local/lib/python3.11/dist-packages (from pandas) (2025.1)\n",
            "Requirement already satisfied: tzdata>=2022.7 in /usr/local/lib/python3.11/dist-packages (from pandas) (2025.1)\n",
            "Requirement already satisfied: contourpy>=1.0.1 in /usr/local/lib/python3.11/dist-packages (from matplotlib) (1.3.1)\n",
            "Requirement already satisfied: cycler>=0.10 in /usr/local/lib/python3.11/dist-packages (from matplotlib) (0.12.1)\n",
            "Requirement already satisfied: fonttools>=4.22.0 in /usr/local/lib/python3.11/dist-packages (from matplotlib) (4.56.0)\n",
            "Requirement already satisfied: kiwisolver>=1.3.1 in /usr/local/lib/python3.11/dist-packages (from matplotlib) (1.4.8)\n",
            "Requirement already satisfied: packaging>=20.0 in /usr/local/lib/python3.11/dist-packages (from matplotlib) (24.2)\n",
            "Requirement already satisfied: pillow>=8 in /usr/local/lib/python3.11/dist-packages (from matplotlib) (11.1.0)\n",
            "Requirement already satisfied: pyparsing>=2.3.1 in /usr/local/lib/python3.11/dist-packages (from matplotlib) (3.2.1)\n",
            "Requirement already satisfied: requests in /usr/local/lib/python3.11/dist-packages (from pyalex) (2.32.3)\n",
            "Requirement already satisfied: urllib3 in /usr/local/lib/python3.11/dist-packages (from pyalex) (2.3.0)\n",
            "Requirement already satisfied: six>=1.5 in /usr/local/lib/python3.11/dist-packages (from python-dateutil>=2.8.2->pandas) (1.17.0)\n",
            "Requirement already satisfied: charset-normalizer<4,>=2 in /usr/local/lib/python3.11/dist-packages (from requests->pyalex) (3.4.1)\n",
            "Requirement already satisfied: idna<4,>=2.5 in /usr/local/lib/python3.11/dist-packages (from requests->pyalex) (3.10)\n",
            "Requirement already satisfied: certifi>=2017.4.17 in /usr/local/lib/python3.11/dist-packages (from requests->pyalex) (2025.1.31)\n",
            "Downloading pyalex-0.15.1-py3-none-any.whl (11 kB)\n",
            "Installing collected packages: pyalex\n",
            "Successfully installed pyalex-0.15.1\n"
          ]
        }
      ],
      "source": [
        "pip install pandas networkx matplotlib pyalex\n"
      ]
    },
    {
      "cell_type": "markdown",
      "source": [
        "Agora importamos da nossa pasta no google drive o arquivo csv contendo todos os artigos que iremos usar em nossa rede de citações:"
      ],
      "metadata": {
        "id": "vG89OPPL43BQ"
      }
    },
    {
      "cell_type": "code",
      "execution_count": null,
      "metadata": {
        "id": "QioRI-rQSIyJ"
      },
      "outputs": [],
      "source": [
        "import pandas as pd\n",
        "\n",
        "df = pd.read_csv('/content/drive/MyDrive/Material_IC/Corpus/Artigos/dataset de trabalho/dataset.csv')\n"
      ]
    },
    {
      "cell_type": "markdown",
      "source": [
        "Esse código produz uma rede de citações em que cada node é identificado com o seu id na plataforam OpenAlex (demora cerca de 2 horas para rodar):"
      ],
      "metadata": {
        "id": "dd0pf4X65L36"
      }
    },
    {
      "cell_type": "code",
      "execution_count": null,
      "metadata": {
        "colab": {
          "base_uri": "https://localhost:8080/"
        },
        "id": "4lz0-piXSvpP",
        "outputId": "6a50661c-3b58-4494-f183-f00e659be165"
      },
      "outputs": [
        {
          "name": "stdout",
          "output_type": "stream",
          "text": [
            "Error processing DOI 10.35956/v.24.n2.2024.p.99-115: 404 Client Error: NOT FOUND for url: https://api.openalex.org/works/https://doi.org/10.35956/v.24.n2.2024.p.99-115\n",
            "Error processing DOI 10.35956/v.24.n2.2024.p.137-159: 404 Client Error: NOT FOUND for url: https://api.openalex.org/works/https://doi.org/10.35956/v.24.n2.2024.p.137-159\n",
            "Error processing DOI 10.35956/v.24.n2.2024.p.4-26: 404 Client Error: NOT FOUND for url: https://api.openalex.org/works/https://doi.org/10.35956/v.24.n2.2024.p.4-26\n",
            "Error processing DOI 10.35956/v.23.n1.2022.p.52-70: 404 Client Error: NOT FOUND for url: https://api.openalex.org/works/https://doi.org/10.35956/v.23.n1.2022.p.52-70\n",
            "Error processing DOI 10.35956/v.23.n2.2023.p.68-89: 404 Client Error: NOT FOUND for url: https://api.openalex.org/works/https://doi.org/10.35956/v.23.n2.2023.p.68-89\n",
            "Error processing DOI 10.35956/v.22.n2.2022.p.103-131: 404 Client Error: NOT FOUND for url: https://api.openalex.org/works/https://doi.org/10.35956/v.22.n2.2022.p.103-131\n",
            "Error processing DOI 10.35956/v.22.n2.2022.p.222-237: 404 Client Error: NOT FOUND for url: https://api.openalex.org/works/https://doi.org/10.35956/v.22.n2.2022.p.222-237\n",
            "Error processing DOI 10.35956/v.22.n2.2022.p.81-102: 404 Client Error: NOT FOUND for url: https://api.openalex.org/works/https://doi.org/10.35956/v.22.n2.2022.p.81-102\n",
            "Error processing DOI 10.35956/v.21.n1.2021.p.23-43: 404 Client Error: NOT FOUND for url: https://api.openalex.org/works/https://doi.org/10.35956/v.21.n1.2021.p.23-43\n",
            "Error processing DOI 10.1017/S002.2.2.16X1700116X: 404 Client Error: NOT FOUND for url: https://api.openalex.org/works/https://doi.org/10.1017/S002.2.2.16X1700116X\n",
            "Error processing DOI 10.1017/S002.2.2.16X17001146: 404 Client Error: NOT FOUND for url: https://api.openalex.org/works/https://doi.org/10.1017/S002.2.2.16X17001146\n",
            "Error processing DOI 10.14201/alh2017776792: 404 Client Error: NOT FOUND for url: https://api.openalex.org/works/https://doi.org/10.14201/alh2017776792\n",
            "Error processing DOI 10.14201/alh201776115137: 404 Client Error: NOT FOUND for url: https://api.openalex.org/works/https://doi.org/10.14201/alh201776115137\n",
            "Error processing DOI 10.14201/alh2017767592: 404 Client Error: NOT FOUND for url: https://api.openalex.org/works/https://doi.org/10.14201/alh2017767592\n",
            "Error processing DOI 10.14201/alh2017765573: 404 Client Error: NOT FOUND for url: https://api.openalex.org/works/https://doi.org/10.14201/alh2017765573\n",
            "Error processing DOI 10.60583/gypp.v33i1.8188: 404 Client Error: NOT FOUND for url: https://api.openalex.org/works/https://doi.org/10.60583/gypp.v33i1.8188\n",
            "Error processing DOI 10.60583/gypp.v33i2.8270: 404 Client Error: NOT FOUND for url: https://api.openalex.org/works/https://doi.org/10.60583/gypp.v33i2.8270\n",
            "Error processing DOI 10.1590/dados.2024.67.1.313: 404 Client Error: NOT FOUND for url: https://api.openalex.org/works/https://doi.org/10.1590/dados.2024.67.1.313\n",
            "Error processing DOI 10.60583/gypp.v32i2.8122: 404 Client Error: NOT FOUND for url: https://api.openalex.org/works/https://doi.org/10.60583/gypp.v32i2.8122\n",
            "Error processing DOI 10.1590/0102-019026/116: 404 Client Error: NOT FOUND for url: https://api.openalex.org/works/https://doi.org/10.1590/0102-019026/116\n",
            "Error processing DOI 10.22517/25392662.2352: 404 Client Error: NOT FOUND for url: https://api.openalex.org/works/https://doi.org/10.22517/25392662.2352\n",
            "Error processing DOI 10.5281/zenodo.3872487: 404 Client Error: NOT FOUND for url: https://api.openalex.org/works/https://doi.org/10.5281/zenodo.3872487\n",
            "Error processing DOI 10.5281/zenodo.3872581: 404 Client Error: NOT FOUND for url: https://api.openalex.org/works/https://doi.org/10.5281/zenodo.3872581\n",
            "Error processing DOI 10.5281/zenodo.3740100: 404 Client Error: NOT FOUND for url: https://api.openalex.org/works/https://doi.org/10.5281/zenodo.3740100\n",
            "Error processing DOI 10.5281/zenodo.3872528: 404 Client Error: NOT FOUND for url: https://api.openalex.org/works/https://doi.org/10.5281/zenodo.3872528\n",
            "Error processing DOI 10.5281/zenodo.4110898: 404 Client Error: NOT FOUND for url: https://api.openalex.org/works/https://doi.org/10.5281/zenodo.4110898\n",
            "Error processing DOI 10.5281/zenodo.3984199: 404 Client Error: NOT FOUND for url: https://api.openalex.org/works/https://doi.org/10.5281/zenodo.3984199\n",
            "Error processing DOI 10.5281/zenodo.3987649: 404 Client Error: NOT FOUND for url: https://api.openalex.org/works/https://doi.org/10.5281/zenodo.3987649\n",
            "Error processing DOI 10.5281/zenodo.4003326: 404 Client Error: NOT FOUND for url: https://api.openalex.org/works/https://doi.org/10.5281/zenodo.4003326\n",
            "Error processing DOI 10.5281/zenodo.4280118: 404 Client Error: NOT FOUND for url: https://api.openalex.org/works/https://doi.org/10.5281/zenodo.4280118\n",
            "Error processing DOI 10.5281/zenodo.4003344: 404 Client Error: NOT FOUND for url: https://api.openalex.org/works/https://doi.org/10.5281/zenodo.4003344\n",
            "Error processing DOI 10.5281/zenodo.4003110: 404 Client Error: NOT FOUND for url: https://api.openalex.org/works/https://doi.org/10.5281/zenodo.4003110\n",
            "Error processing DOI 10.5281/zenodo.3931048: 404 Client Error: NOT FOUND for url: https://api.openalex.org/works/https://doi.org/10.5281/zenodo.3931048\n",
            "Error processing DOI 10.5281/zenodo.4087614: 404 Client Error: NOT FOUND for url: https://api.openalex.org/works/https://doi.org/10.5281/zenodo.4087614\n",
            "Error processing DOI 10.5281/zenodo.3987618: 404 Client Error: NOT FOUND for url: https://api.openalex.org/works/https://doi.org/10.5281/zenodo.3987618\n",
            "Error processing DOI 10.5281/zenodo.3931056: 404 Client Error: NOT FOUND for url: https://api.openalex.org/works/https://doi.org/10.5281/zenodo.3931056\n",
            "Error processing DOI 10.5281/zenodo.4003216: 404 Client Error: NOT FOUND for url: https://api.openalex.org/works/https://doi.org/10.5281/zenodo.4003216\n",
            "Error processing DOI 10.5281/zenodo.4280192: 404 Client Error: NOT FOUND for url: https://api.openalex.org/works/https://doi.org/10.5281/zenodo.4280192\n",
            "Error processing DOI 10.5281/zenodo.3931044: 404 Client Error: NOT FOUND for url: https://api.openalex.org/works/https://doi.org/10.5281/zenodo.3931044\n",
            "Error processing DOI 10.5281/zenodo.3907034: 404 Client Error: NOT FOUND for url: https://api.openalex.org/works/https://doi.org/10.5281/zenodo.3907034\n",
            "Error processing DOI 10.5281/zenodo.4280080: 404 Client Error: NOT FOUND for url: https://api.openalex.org/works/https://doi.org/10.5281/zenodo.4280080\n",
            "Error processing DOI 10.5281/zenodo.3987634: 404 Client Error: NOT FOUND for url: https://api.openalex.org/works/https://doi.org/10.5281/zenodo.3987634\n",
            "Error processing DOI 10.5281/zenodo.4110912: 404 Client Error: NOT FOUND for url: https://api.openalex.org/works/https://doi.org/10.5281/zenodo.4110912\n",
            "Error processing DOI 10.5281/zenodo.4110937: 404 Client Error: NOT FOUND for url: https://api.openalex.org/works/https://doi.org/10.5281/zenodo.4110937\n",
            "Error processing DOI 10.5281/zenodo.4009710: 404 Client Error: NOT FOUND for url: https://api.openalex.org/works/https://doi.org/10.5281/zenodo.4009710\n",
            "Error processing DOI 10.5281/zenodo.3815272: 404 Client Error: NOT FOUND for url: https://api.openalex.org/works/https://doi.org/10.5281/zenodo.3815272\n",
            "Error processing DOI 10.5281/zenodo.3808663: 404 Client Error: NOT FOUND for url: https://api.openalex.org/works/https://doi.org/10.5281/zenodo.3808663\n",
            "Error processing DOI 10.5281/zenodo.3338572: 404 Client Error: NOT FOUND for url: https://api.openalex.org/works/https://doi.org/10.5281/zenodo.3338572\n",
            "Error processing DOI 10.5281/zenodo.3344846: 404 Client Error: NOT FOUND for url: https://api.openalex.org/works/https://doi.org/10.5281/zenodo.3344846\n",
            "Error processing DOI 10.5281/zenodo.3110686: 404 Client Error: NOT FOUND for url: https://api.openalex.org/works/https://doi.org/10.5281/zenodo.3110686\n",
            "Error processing DOI 10.5281/zenodo.2653159: 404 Client Error: NOT FOUND for url: https://api.openalex.org/works/https://doi.org/10.5281/zenodo.2653159\n",
            "Error processing DOI 10.5281/zenodo.3338590: 404 Client Error: NOT FOUND for url: https://api.openalex.org/works/https://doi.org/10.5281/zenodo.3338590\n",
            "Error processing DOI 10.5281/zenodo.3344925: 404 Client Error: NOT FOUND for url: https://api.openalex.org/works/https://doi.org/10.5281/zenodo.3344925\n",
            "Error processing DOI 10.5281/zenodo.3344932: 404 Client Error: NOT FOUND for url: https://api.openalex.org/works/https://doi.org/10.5281/zenodo.3344932\n",
            "Error processing DOI 10.5281/zenodo.3338594: 404 Client Error: NOT FOUND for url: https://api.openalex.org/works/https://doi.org/10.5281/zenodo.3338594\n",
            "Error processing DOI 10.5281/zenodo.3463779: 404 Client Error: NOT FOUND for url: https://api.openalex.org/works/https://doi.org/10.5281/zenodo.3463779\n",
            "Error processing DOI 10.5281/zenodo.3344856: 404 Client Error: NOT FOUND for url: https://api.openalex.org/works/https://doi.org/10.5281/zenodo.3344856\n",
            "Error processing DOI 10.5281/zenodo.3110438: 404 Client Error: NOT FOUND for url: https://api.openalex.org/works/https://doi.org/10.5281/zenodo.3110438\n",
            "Error processing DOI 10.5281/zenodo.1439069: 404 Client Error: NOT FOUND for url: https://api.openalex.org/works/https://doi.org/10.5281/zenodo.1439069\n",
            "Error processing DOI 10.21308/recp.47.00: 404 Client Error: NOT FOUND for url: https://api.openalex.org/works/https://doi.org/10.21308/recp.47.00\n",
            "Error processing DOI 10.5281/zenodo.1438572: 404 Client Error: NOT FOUND for url: https://api.openalex.org/works/https://doi.org/10.5281/zenodo.1438572\n",
            "Error processing DOI 10.1590/0102-149180/10: 404 Client Error: NOT FOUND for url: https://api.openalex.org/works/https://doi.org/10.1590/0102-149180/10\n",
            "Error processing DOI 10.5281/zenodo.1510026: 404 Client Error: NOT FOUND for url: https://api.openalex.org/works/https://doi.org/10.5281/zenodo.1510026\n",
            "Error processing DOI 10.5281/zenodo.1495816: 404 Client Error: NOT FOUND for url: https://api.openalex.org/works/https://doi.org/10.5281/zenodo.1495816\n",
            "Error processing DOI 10.5281/zenodo.1772470: 404 Client Error: NOT FOUND for url: https://api.openalex.org/works/https://doi.org/10.5281/zenodo.1772470\n",
            "Error processing DOI 10.1590/0102-011038/103: 404 Client Error: NOT FOUND for url: https://api.openalex.org/works/https://doi.org/10.1590/0102-011038/103\n",
            "Error processing DOI 10.1590/0102-039068/103: 404 Client Error: NOT FOUND for url: https://api.openalex.org/works/https://doi.org/10.1590/0102-039068/103\n",
            "Error processing DOI 10.1590/0102-167202/103: 404 Client Error: NOT FOUND for url: https://api.openalex.org/works/https://doi.org/10.1590/0102-167202/103\n",
            "Error processing DOI 10.1590/0102-069101/103: 404 Client Error: NOT FOUND for url: https://api.openalex.org/works/https://doi.org/10.1590/0102-069101/103\n",
            "Error processing DOI 10.5380/RSOCP.V24I58.47219: 404 Client Error: NOT FOUND for url: https://api.openalex.org/works/https://doi.org/10.5380/RSOCP.V24I58.47219\n",
            "Error processing DOI 10.1590/S0104-62762013000100001.: 404 Client Error: NOT FOUND for url: https://api.openalex.org/works/https://doi.org/10.1590/S0104-62762013000100001.\n"
          ]
        }
      ],
      "source": [
        "from pyalex import Works\n",
        "import networkx as nx\n",
        "\n",
        "# Initialize a directed graph\n",
        "G = nx.DiGraph()\n",
        "\n",
        "for doi in df['DOI'].dropna():\n",
        "    try:\n",
        "        # Fetch work details from OpenAlex\n",
        "        work = Works()[f\"https://doi.org/{doi}\"]\n",
        "\n",
        "        # Get the OpenAlex ID of the work\n",
        "        work_id = work['id']\n",
        "\n",
        "        # Add the work as a node\n",
        "        G.add_node(work_id, label=work['display_name'])\n",
        "\n",
        "        # Fetch works cited by this work\n",
        "        for ref in work.get('referenced_works', []):\n",
        "            G.add_node(ref)\n",
        "            G.add_edge(work_id, ref)\n",
        "\n",
        "        # Fetch works that cite this work\n",
        "        citing_works = Works().filter(cites=work_id).get()\n",
        "        for citing_work in citing_works:\n",
        "            citing_work_id = citing_work['id']\n",
        "            G.add_node(citing_work_id, label=citing_work['display_name'])\n",
        "            G.add_edge(citing_work_id, work_id)\n",
        "\n",
        "    except Exception as e:\n",
        "        print(f\"Error processing DOI {doi}: {e}\")\n"
      ]
    },
    {
      "cell_type": "markdown",
      "source": [
        "Alguns dos artigos não estavam presentes na plataforma OpenAlex e, por isso, seus nodes ficaram com valor \"None\", vamos corrigir esse problema transformando esses nodes e edges em \"N/A\":"
      ],
      "metadata": {
        "id": "Tht8L-Xg5h5E"
      }
    },
    {
      "cell_type": "code",
      "execution_count": null,
      "metadata": {
        "id": "n91eHPphkDoo"
      },
      "outputs": [],
      "source": [
        "for node, attrs in G.nodes(data=True):\n",
        "    for key, value in attrs.items():\n",
        "        if value is None:\n",
        "            G.nodes[node][key] = \"N/A\"\n",
        "\n",
        "for source, target, attrs in G.edges(data=True):\n",
        "    for key, value in attrs.items():\n",
        "        if value is None:\n",
        "            G.edges[source, target][key] = \"N/A\""
      ]
    },
    {
      "cell_type": "markdown",
      "source": [
        "Após corrigir o problema podemos salvar nosso network como graphml:"
      ],
      "metadata": {
        "id": "iGRpi-1m6Qc_"
      }
    },
    {
      "cell_type": "code",
      "execution_count": null,
      "metadata": {
        "id": "SxbBuyUtkH_Q"
      },
      "outputs": [],
      "source": [
        "nx.write_graphml(G, \"/content/drive/MyDrive/Material_IC/Corpus/Artigos/networks/citation_network.graphml\")\n"
      ]
    },
    {
      "cell_type": "markdown",
      "source": [
        "Precisamos saber todos os artigos que não estavam na base de dados da OpenAlex, por isso vamos usar as mensagens de erro do programa para gravar todos os dois que não estavam na base de dados:"
      ],
      "metadata": {
        "id": "o0YDxeAD6iEl"
      }
    },
    {
      "cell_type": "code",
      "execution_count": null,
      "metadata": {
        "colab": {
          "base_uri": "https://localhost:8080/"
        },
        "id": "oydHrVZKzIKn",
        "outputId": "d0281e42-f641-4573-e963-ac826421f7b7"
      },
      "outputs": [
        {
          "name": "stdout",
          "output_type": "stream",
          "text": [
            "CSV file saved successfully: /content/drive/MyDrive/Material_IC/Corpus/Artigos/doi_not_found_open_alex.csv\n"
          ]
        }
      ],
      "source": [
        "import re\n",
        "import pandas as pd\n",
        "\n",
        "# Define the error message text (replace this with the actual log content if reading from a file)\n",
        "error_message = \"\"\"\n",
        "Error processing DOI 10.35956/v.24.n2.2024.p.99-115: 404 Client Error: NOT FOUND for url: https://api.openalex.org/works/https://doi.org/10.35956/v.24.n2.2024.p.99-115\n",
        "Error processing DOI 10.35956/v.24.n2.2024.p.137-159: 404 Client Error: NOT FOUND for url: https://api.openalex.org/works/https://doi.org/10.35956/v.24.n2.2024.p.137-159\n",
        "Error processing DOI 10.35956/v.24.n2.2024.p.4-26: 404 Client Error: NOT FOUND for url: https://api.openalex.org/works/https://doi.org/10.35956/v.24.n2.2024.p.4-26\n",
        "Error processing DOI 10.35956/v.23.n1.2022.p.52-70: 404 Client Error: NOT FOUND for url: https://api.openalex.org/works/https://doi.org/10.35956/v.23.n1.2022.p.52-70\n",
        "Error processing DOI 10.35956/v.23.n2.2023.p.68-89: 404 Client Error: NOT FOUND for url: https://api.openalex.org/works/https://doi.org/10.35956/v.23.n2.2023.p.68-89\n",
        "Error processing DOI 10.35956/v.22.n2.2022.p.103-131: 404 Client Error: NOT FOUND for url: https://api.openalex.org/works/https://doi.org/10.35956/v.22.n2.2022.p.103-131\n",
        "Error processing DOI 10.35956/v.22.n2.2022.p.222-237: 404 Client Error: NOT FOUND for url: https://api.openalex.org/works/https://doi.org/10.35956/v.22.n2.2022.p.222-237\n",
        "Error processing DOI 10.35956/v.22.n2.2022.p.81-102: 404 Client Error: NOT FOUND for url: https://api.openalex.org/works/https://doi.org/10.35956/v.22.n2.2022.p.81-102\n",
        "Error processing DOI 10.35956/v.21.n1.2021.p.23-43: 404 Client Error: NOT FOUND for url: https://api.openalex.org/works/https://doi.org/10.35956/v.21.n1.2021.p.23-43\n",
        "Error processing DOI 10.1017/S002.2.2.16X1700116X: 404 Client Error: NOT FOUND for url: https://api.openalex.org/works/https://doi.org/10.1017/S002.2.2.16X1700116X\n",
        "Error processing DOI 10.1017/S002.2.2.16X17001146: 404 Client Error: NOT FOUND for url: https://api.openalex.org/works/https://doi.org/10.1017/S002.2.2.16X17001146\n",
        "Error processing DOI 10.14201/alh2017776792: 404 Client Error: NOT FOUND for url: https://api.openalex.org/works/https://doi.org/10.14201/alh2017776792\n",
        "Error processing DOI 10.14201/alh201776115137: 404 Client Error: NOT FOUND for url: https://api.openalex.org/works/https://doi.org/10.14201/alh201776115137\n",
        "Error processing DOI 10.14201/alh2017767592: 404 Client Error: NOT FOUND for url: https://api.openalex.org/works/https://doi.org/10.14201/alh2017767592\n",
        "Error processing DOI 10.14201/alh2017765573: 404 Client Error: NOT FOUND for url: https://api.openalex.org/works/https://doi.org/10.14201/alh2017765573\n",
        "Error processing DOI 10.60583/gypp.v33i1.8188: 404 Client Error: NOT FOUND for url: https://api.openalex.org/works/https://doi.org/10.60583/gypp.v33i1.8188\n",
        "Error processing DOI 10.60583/gypp.v33i2.8270: 404 Client Error: NOT FOUND for url: https://api.openalex.org/works/https://doi.org/10.60583/gypp.v33i2.8270\n",
        "Error processing DOI 10.1590/dados.2024.67.1.313: 404 Client Error: NOT FOUND for url: https://api.openalex.org/works/https://doi.org/10.1590/dados.2024.67.1.313\n",
        "Error processing DOI 10.60583/gypp.v32i2.8122: 404 Client Error: NOT FOUND for url: https://api.openalex.org/works/https://doi.org/10.60583/gypp.v32i2.8122\n",
        "Error processing DOI 10.1590/0102-019026/116: 404 Client Error: NOT FOUND for url: https://api.openalex.org/works/https://doi.org/10.1590/0102-019026/116\n",
        "Error processing DOI 10.22517/25392662.2352: 404 Client Error: NOT FOUND for url: https://api.openalex.org/works/https://doi.org/10.22517/25392662.2352\n",
        "Error processing DOI 10.5281/zenodo.3872487: 404 Client Error: NOT FOUND for url: https://api.openalex.org/works/https://doi.org/10.5281/zenodo.3872487\n",
        "Error processing DOI 10.5281/zenodo.3872581: 404 Client Error: NOT FOUND for url: https://api.openalex.org/works/https://doi.org/10.5281/zenodo.3872581\n",
        "Error processing DOI 10.5281/zenodo.3740100: 404 Client Error: NOT FOUND for url: https://api.openalex.org/works/https://doi.org/10.5281/zenodo.3740100\n",
        "Error processing DOI 10.5281/zenodo.3872528: 404 Client Error: NOT FOUND for url: https://api.openalex.org/works/https://doi.org/10.5281/zenodo.3872528\n",
        "Error processing DOI 10.5281/zenodo.4110898: 404 Client Error: NOT FOUND for url: https://api.openalex.org/works/https://doi.org/10.5281/zenodo.4110898\n",
        "Error processing DOI 10.5281/zenodo.3984199: 404 Client Error: NOT FOUND for url: https://api.openalex.org/works/https://doi.org/10.5281/zenodo.3984199\n",
        "Error processing DOI 10.5281/zenodo.3987649: 404 Client Error: NOT FOUND for url: https://api.openalex.org/works/https://doi.org/10.5281/zenodo.3987649\n",
        "Error processing DOI 10.5281/zenodo.4003326: 404 Client Error: NOT FOUND for url: https://api.openalex.org/works/https://doi.org/10.5281/zenodo.4003326\n",
        "Error processing DOI 10.5281/zenodo.4280118: 404 Client Error: NOT FOUND for url: https://api.openalex.org/works/https://doi.org/10.5281/zenodo.4280118\n",
        "Error processing DOI 10.5281/zenodo.4003344: 404 Client Error: NOT FOUND for url: https://api.openalex.org/works/https://doi.org/10.5281/zenodo.4003344\n",
        "Error processing DOI 10.5281/zenodo.4003110: 404 Client Error: NOT FOUND for url: https://api.openalex.org/works/https://doi.org/10.5281/zenodo.4003110\n",
        "Error processing DOI 10.5281/zenodo.3931048: 404 Client Error: NOT FOUND for url: https://api.openalex.org/works/https://doi.org/10.5281/zenodo.3931048\n",
        "Error processing DOI 10.5281/zenodo.4087614: 404 Client Error: NOT FOUND for url: https://api.openalex.org/works/https://doi.org/10.5281/zenodo.4087614\n",
        "Error processing DOI 10.5281/zenodo.3987618: 404 Client Error: NOT FOUND for url: https://api.openalex.org/works/https://doi.org/10.5281/zenodo.3987618\n",
        "Error processing DOI 10.5281/zenodo.3931056: 404 Client Error: NOT FOUND for url: https://api.openalex.org/works/https://doi.org/10.5281/zenodo.3931056\n",
        "Error processing DOI 10.5281/zenodo.4003216: 404 Client Error: NOT FOUND for url: https://api.openalex.org/works/https://doi.org/10.5281/zenodo.4003216\n",
        "Error processing DOI 10.5281/zenodo.4280192: 404 Client Error: NOT FOUND for url: https://api.openalex.org/works/https://doi.org/10.5281/zenodo.4280192\n",
        "Error processing DOI 10.5281/zenodo.3931044: 404 Client Error: NOT FOUND for url: https://api.openalex.org/works/https://doi.org/10.5281/zenodo.3931044\n",
        "Error processing DOI 10.5281/zenodo.3907034: 404 Client Error: NOT FOUND for url: https://api.openalex.org/works/https://doi.org/10.5281/zenodo.3907034\n",
        "Error processing DOI 10.5281/zenodo.4280080: 404 Client Error: NOT FOUND for url: https://api.openalex.org/works/https://doi.org/10.5281/zenodo.4280080\n",
        "Error processing DOI 10.5281/zenodo.3987634: 404 Client Error: NOT FOUND for url: https://api.openalex.org/works/https://doi.org/10.5281/zenodo.3987634\n",
        "Error processing DOI 10.5281/zenodo.4110912: 404 Client Error: NOT FOUND for url: https://api.openalex.org/works/https://doi.org/10.5281/zenodo.4110912\n",
        "Error processing DOI 10.5281/zenodo.4110937: 404 Client Error: NOT FOUND for url: https://api.openalex.org/works/https://doi.org/10.5281/zenodo.4110937\n",
        "Error processing DOI 10.5281/zenodo.4009710: 404 Client Error: NOT FOUND for url: https://api.openalex.org/works/https://doi.org/10.5281/zenodo.4009710\n",
        "Error processing DOI 10.5281/zenodo.3815272: 404 Client Error: NOT FOUND for url: https://api.openalex.org/works/https://doi.org/10.5281/zenodo.3815272\n",
        "Error processing DOI 10.5281/zenodo.3808663: 404 Client Error: NOT FOUND for url: https://api.openalex.org/works/https://doi.org/10.5281/zenodo.3808663\n",
        "Error processing DOI 10.5281/zenodo.3338572: 404 Client Error: NOT FOUND for url: https://api.openalex.org/works/https://doi.org/10.5281/zenodo.3338572\n",
        "Error processing DOI 10.5281/zenodo.3344846: 404 Client Error: NOT FOUND for url: https://api.openalex.org/works/https://doi.org/10.5281/zenodo.3344846\n",
        "Error processing DOI 10.5281/zenodo.3110686: 404 Client Error: NOT FOUND for url: https://api.openalex.org/works/https://doi.org/10.5281/zenodo.3110686\n",
        "Error processing DOI 10.5281/zenodo.2653159: 404 Client Error: NOT FOUND for url: https://api.openalex.org/works/https://doi.org/10.5281/zenodo.2653159\n",
        "Error processing DOI 10.5281/zenodo.3338590: 404 Client Error: NOT FOUND for url: https://api.openalex.org/works/https://doi.org/10.5281/zenodo.3338590\n",
        "Error processing DOI 10.5281/zenodo.3344925: 404 Client Error: NOT FOUND for url: https://api.openalex.org/works/https://doi.org/10.5281/zenodo.3344925\n",
        "Error processing DOI 10.5281/zenodo.3344932: 404 Client Error: NOT FOUND for url: https://api.openalex.org/works/https://doi.org/10.5281/zenodo.3344932\n",
        "Error processing DOI 10.5281/zenodo.3338594: 404 Client Error: NOT FOUND for url: https://api.openalex.org/works/https://doi.org/10.5281/zenodo.3338594\n",
        "Error processing DOI 10.5281/zenodo.3463779: 404 Client Error: NOT FOUND for url: https://api.openalex.org/works/https://doi.org/10.5281/zenodo.3463779\n",
        "Error processing DOI 10.5281/zenodo.3344856: 404 Client Error: NOT FOUND for url: https://api.openalex.org/works/https://doi.org/10.5281/zenodo.3344856\n",
        "Error processing DOI 10.5281/zenodo.3110438: 404 Client Error: NOT FOUND for url: https://api.openalex.org/works/https://doi.org/10.5281/zenodo.3110438\n",
        "Error processing DOI 10.5281/zenodo.1439069: 404 Client Error: NOT FOUND for url: https://api.openalex.org/works/https://doi.org/10.5281/zenodo.1439069\n",
        "Error processing DOI 10.21308/recp.47.00: 404 Client Error: NOT FOUND for url: https://api.openalex.org/works/https://doi.org/10.21308/recp.47.00\n",
        "Error processing DOI 10.5281/zenodo.1438572: 404 Client Error: NOT FOUND for url: https://api.openalex.org/works/https://doi.org/10.5281/zenodo.1438572\n",
        "Error processing DOI 10.1590/0102-149180/10: 404 Client Error: NOT FOUND for url: https://api.openalex.org/works/https://doi.org/10.1590/0102-149180/10\n",
        "Error processing DOI 10.5281/zenodo.1510026: 404 Client Error: NOT FOUND for url: https://api.openalex.org/works/https://doi.org/10.5281/zenodo.1510026\n",
        "Error processing DOI 10.5281/zenodo.1495816: 404 Client Error: NOT FOUND for url: https://api.openalex.org/works/https://doi.org/10.5281/zenodo.1495816\n",
        "Error processing DOI 10.5281/zenodo.1772470: 404 Client Error: NOT FOUND for url: https://api.openalex.org/works/https://doi.org/10.5281/zenodo.1772470\n",
        "Error processing DOI 10.1590/0102-011038/103: 404 Client Error: NOT FOUND for url: https://api.openalex.org/works/https://doi.org/10.1590/0102-011038/103\n",
        "Error processing DOI 10.1590/0102-039068/103: 404 Client Error: NOT FOUND for url: https://api.openalex.org/works/https://doi.org/10.1590/0102-039068/103\n",
        "Error processing DOI 10.1590/0102-167202/103: 404 Client Error: NOT FOUND for url: https://api.openalex.org/works/https://doi.org/10.1590/0102-167202/103\n",
        "Error processing DOI 10.1590/0102-069101/103: 404 Client Error: NOT FOUND for url: https://api.openalex.org/works/https://doi.org/10.1590/0102-069101/103\n",
        "Error processing DOI 10.5380/RSOCP.V24I58.47219: 404 Client Error: NOT FOUND for url: https://api.openalex.org/works/https://doi.org/10.5380/RSOCP.V24I58.47219\n",
        "Error processing DOI 10.1590/S0104-62762013000100001.: 404 Client Error: NOT FOUND for url: https://api.openalex.org/works/https://doi.org/10.1590/S0104-62762013000100001.\n",
        "\n",
        "\"\"\"\n",
        "\n",
        "# Extract DOIs from the text using regex\n",
        "dois = re.findall(r'Error processing DOI ([\\w./-]+): 404 Client Error', error_message)\n",
        "\n",
        "# Create a DataFrame\n",
        "df_not_found = pd.DataFrame(dois, columns=[\"DOI\"])\n",
        "\n",
        "# Save as CSV\n",
        "csv_path = \"/content/drive/MyDrive/Material_IC/Corpus/Artigos/dataset de trabalho/doi_not_found_open_alex.csv\"\n",
        "df_not_found.to_csv(csv_path, index=False)\n",
        "\n",
        "print(f\"CSV file saved successfully: {csv_path}\")\n"
      ]
    },
    {
      "cell_type": "markdown",
      "source": [
        "Por último, vale enfatizar que o grafo criado tem como nodes os ids dos artigos para o OpenAlex, além disso não colocamos nenhuma restrição sobre os tipos de trabalho que podem entrar como nodes, o que significa que vários nodes dessa network podem não ser artigos científicos, mas sim livros. Vamos tentar filtrar nosso grafo para que ele tenha apenas os nodes relativos aos artigos de nosso dataset original:"
      ],
      "metadata": {
        "id": "Vmd0AIOg9gdw"
      }
    },
    {
      "cell_type": "code",
      "source": [
        "import networkx as nx\n",
        "\n",
        "graphml_file = \"/content/drive/MyDrive/Material_IC/Corpus/Artigos/networks/citation_network.graphml\"  # Replace with your file path\n",
        "G = nx.read_graphml(graphml_file)"
      ],
      "metadata": {
        "id": "MyBMuyKa-pwi"
      },
      "execution_count": null,
      "outputs": []
    },
    {
      "cell_type": "code",
      "source": [
        "import pandas as pd\n",
        "from pyalex import Works\n",
        "\n",
        "def get_openalex_id_from_csv(csv_file: str) -> pd.DataFrame:\n",
        "    \"\"\"\n",
        "    Loads a CSV file and retrieves OpenAlex IDs for DOIs in the dataset.\n",
        "\n",
        "    Parameters:\n",
        "    - csv_file (str): Path to the CSV file.\n",
        "    - doi_column (str): Name of the column containing DOIs.\n",
        "\n",
        "    Returns:\n",
        "    - pd.DataFrame: A DataFrame with DOIs and corresponding OpenAlex IDs.\n",
        "    \"\"\"\n",
        "    # Load the CSV file\n",
        "    df = pd.read_csv(csv_file)\n",
        "\n",
        "    # Function to get OpenAlex ID for a single DOI\n",
        "    def fetch_openalex_id(doi):\n",
        "        if pd.isna(doi):\n",
        "            return None  # Skip missing DOIs\n",
        "        try:\n",
        "            work = Works()[f\"https://doi.org/{doi}\"]  # Fetch work using DOI\n",
        "            return work.get('id', None)  # Extract OpenAlex ID\n",
        "        except Exception as e:\n",
        "            print(f\"Error fetching OpenAlex ID for DOI {doi}: {e}\")\n",
        "            return None\n",
        "\n",
        "    # Apply function to all DOIs in the column\n",
        "    df[\"OpenAlex_ID\"] = df[\"DOI\"].apply(fetch_openalex_id)\n",
        "\n",
        "    return df  # Return the updated DataFrame\n",
        "\n",
        "df = get_openalex_id_from_csv(\"/content/drive/MyDrive/Material_IC/Corpus/Artigos/data.csv\")\n",
        "df.to_csv(\"/content/drive/MyDrive/Material_IC/Corpus/Artigos/data_id_doi.csv\")"
      ],
      "metadata": {
        "colab": {
          "base_uri": "https://localhost:8080/"
        },
        "id": "OnKsNKzxADQp",
        "outputId": "c13c0ee0-41c5-4d76-f2af-011be42c3560"
      },
      "execution_count": null,
      "outputs": [
        {
          "output_type": "stream",
          "name": "stdout",
          "text": [
            "Error fetching OpenAlex ID for DOI 10.35956/v.24.n2.2024.p.99-115: 404 Client Error: NOT FOUND for url: https://api.openalex.org/works/https://doi.org/10.35956/v.24.n2.2024.p.99-115\n",
            "Error fetching OpenAlex ID for DOI 10.35956/v.24.n2.2024.p.137-159: 404 Client Error: NOT FOUND for url: https://api.openalex.org/works/https://doi.org/10.35956/v.24.n2.2024.p.137-159\n",
            "Error fetching OpenAlex ID for DOI 10.35956/v.24.n2.2024.p.4-26: 404 Client Error: NOT FOUND for url: https://api.openalex.org/works/https://doi.org/10.35956/v.24.n2.2024.p.4-26\n",
            "Error fetching OpenAlex ID for DOI 10.35956/v.23.n1.2022.p.52-70: 404 Client Error: NOT FOUND for url: https://api.openalex.org/works/https://doi.org/10.35956/v.23.n1.2022.p.52-70\n",
            "Error fetching OpenAlex ID for DOI 10.35956/v.23.n2.2023.p.68-89: 404 Client Error: NOT FOUND for url: https://api.openalex.org/works/https://doi.org/10.35956/v.23.n2.2023.p.68-89\n",
            "Error fetching OpenAlex ID for DOI 10.35956/v.22.n2.2022.p.103-131: 404 Client Error: NOT FOUND for url: https://api.openalex.org/works/https://doi.org/10.35956/v.22.n2.2022.p.103-131\n",
            "Error fetching OpenAlex ID for DOI 10.35956/v.22.n2.2022.p.222-237: 404 Client Error: NOT FOUND for url: https://api.openalex.org/works/https://doi.org/10.35956/v.22.n2.2022.p.222-237\n",
            "Error fetching OpenAlex ID for DOI 10.35956/v.22.n2.2022.p.81-102: 404 Client Error: NOT FOUND for url: https://api.openalex.org/works/https://doi.org/10.35956/v.22.n2.2022.p.81-102\n",
            "Error fetching OpenAlex ID for DOI 10.35956/v.21.n1.2021.p.23-43: 404 Client Error: NOT FOUND for url: https://api.openalex.org/works/https://doi.org/10.35956/v.21.n1.2021.p.23-43\n",
            "Error fetching OpenAlex ID for DOI 10.1017/S002.2.2.16X1700116X: 404 Client Error: NOT FOUND for url: https://api.openalex.org/works/https://doi.org/10.1017/S002.2.2.16X1700116X\n",
            "Error fetching OpenAlex ID for DOI 10.1017/S002.2.2.16X17001146: 404 Client Error: NOT FOUND for url: https://api.openalex.org/works/https://doi.org/10.1017/S002.2.2.16X17001146\n",
            "Error fetching OpenAlex ID for DOI 10.14201/alh2017776792: 404 Client Error: NOT FOUND for url: https://api.openalex.org/works/https://doi.org/10.14201/alh2017776792\n",
            "Error fetching OpenAlex ID for DOI 10.14201/alh201776115137: 404 Client Error: NOT FOUND for url: https://api.openalex.org/works/https://doi.org/10.14201/alh201776115137\n",
            "Error fetching OpenAlex ID for DOI 10.14201/alh2017767592: 404 Client Error: NOT FOUND for url: https://api.openalex.org/works/https://doi.org/10.14201/alh2017767592\n",
            "Error fetching OpenAlex ID for DOI 10.14201/alh2017765573: 404 Client Error: NOT FOUND for url: https://api.openalex.org/works/https://doi.org/10.14201/alh2017765573\n",
            "Error fetching OpenAlex ID for DOI 10.60583/gypp.v33i1.8188: 404 Client Error: NOT FOUND for url: https://api.openalex.org/works/https://doi.org/10.60583/gypp.v33i1.8188\n",
            "Error fetching OpenAlex ID for DOI 10.60583/gypp.v33i2.8270: 404 Client Error: NOT FOUND for url: https://api.openalex.org/works/https://doi.org/10.60583/gypp.v33i2.8270\n",
            "Error fetching OpenAlex ID for DOI 10.1590/dados.2024.67.1.313: 404 Client Error: NOT FOUND for url: https://api.openalex.org/works/https://doi.org/10.1590/dados.2024.67.1.313\n",
            "Error fetching OpenAlex ID for DOI 10.60583/gypp.v32i2.8122: 404 Client Error: NOT FOUND for url: https://api.openalex.org/works/https://doi.org/10.60583/gypp.v32i2.8122\n",
            "Error fetching OpenAlex ID for DOI 10.1590/0102-019026/116: 404 Client Error: NOT FOUND for url: https://api.openalex.org/works/https://doi.org/10.1590/0102-019026/116\n",
            "Error fetching OpenAlex ID for DOI 10.22517/25392662.2352: 404 Client Error: NOT FOUND for url: https://api.openalex.org/works/https://doi.org/10.22517/25392662.2352\n",
            "Error fetching OpenAlex ID for DOI 10.5281/zenodo.3872487: 404 Client Error: NOT FOUND for url: https://api.openalex.org/works/https://doi.org/10.5281/zenodo.3872487\n",
            "Error fetching OpenAlex ID for DOI 10.5281/zenodo.3872581: 404 Client Error: NOT FOUND for url: https://api.openalex.org/works/https://doi.org/10.5281/zenodo.3872581\n",
            "Error fetching OpenAlex ID for DOI 10.5281/zenodo.3740100: 404 Client Error: NOT FOUND for url: https://api.openalex.org/works/https://doi.org/10.5281/zenodo.3740100\n",
            "Error fetching OpenAlex ID for DOI 10.5281/zenodo.3872528: 404 Client Error: NOT FOUND for url: https://api.openalex.org/works/https://doi.org/10.5281/zenodo.3872528\n",
            "Error fetching OpenAlex ID for DOI 10.5281/zenodo.4110898: 404 Client Error: NOT FOUND for url: https://api.openalex.org/works/https://doi.org/10.5281/zenodo.4110898\n",
            "Error fetching OpenAlex ID for DOI 10.5281/zenodo.3984199: 404 Client Error: NOT FOUND for url: https://api.openalex.org/works/https://doi.org/10.5281/zenodo.3984199\n",
            "Error fetching OpenAlex ID for DOI 10.5281/zenodo.3987649: 404 Client Error: NOT FOUND for url: https://api.openalex.org/works/https://doi.org/10.5281/zenodo.3987649\n",
            "Error fetching OpenAlex ID for DOI 10.5281/zenodo.4003326: 404 Client Error: NOT FOUND for url: https://api.openalex.org/works/https://doi.org/10.5281/zenodo.4003326\n",
            "Error fetching OpenAlex ID for DOI 10.5281/zenodo.4280118: 404 Client Error: NOT FOUND for url: https://api.openalex.org/works/https://doi.org/10.5281/zenodo.4280118\n",
            "Error fetching OpenAlex ID for DOI 10.5281/zenodo.4003344: 404 Client Error: NOT FOUND for url: https://api.openalex.org/works/https://doi.org/10.5281/zenodo.4003344\n",
            "Error fetching OpenAlex ID for DOI 10.5281/zenodo.4003110: 404 Client Error: NOT FOUND for url: https://api.openalex.org/works/https://doi.org/10.5281/zenodo.4003110\n",
            "Error fetching OpenAlex ID for DOI 10.5281/zenodo.3931048: 404 Client Error: NOT FOUND for url: https://api.openalex.org/works/https://doi.org/10.5281/zenodo.3931048\n",
            "Error fetching OpenAlex ID for DOI 10.5281/zenodo.4087614: 404 Client Error: NOT FOUND for url: https://api.openalex.org/works/https://doi.org/10.5281/zenodo.4087614\n",
            "Error fetching OpenAlex ID for DOI 10.5281/zenodo.3987618: 404 Client Error: NOT FOUND for url: https://api.openalex.org/works/https://doi.org/10.5281/zenodo.3987618\n",
            "Error fetching OpenAlex ID for DOI 10.5281/zenodo.3931056: 404 Client Error: NOT FOUND for url: https://api.openalex.org/works/https://doi.org/10.5281/zenodo.3931056\n",
            "Error fetching OpenAlex ID for DOI 10.5281/zenodo.4003216: 404 Client Error: NOT FOUND for url: https://api.openalex.org/works/https://doi.org/10.5281/zenodo.4003216\n",
            "Error fetching OpenAlex ID for DOI 10.5281/zenodo.4280192: 404 Client Error: NOT FOUND for url: https://api.openalex.org/works/https://doi.org/10.5281/zenodo.4280192\n",
            "Error fetching OpenAlex ID for DOI 10.5281/zenodo.3931044: 404 Client Error: NOT FOUND for url: https://api.openalex.org/works/https://doi.org/10.5281/zenodo.3931044\n",
            "Error fetching OpenAlex ID for DOI 10.5281/zenodo.3907034: 404 Client Error: NOT FOUND for url: https://api.openalex.org/works/https://doi.org/10.5281/zenodo.3907034\n",
            "Error fetching OpenAlex ID for DOI 10.5281/zenodo.4280080: 404 Client Error: NOT FOUND for url: https://api.openalex.org/works/https://doi.org/10.5281/zenodo.4280080\n",
            "Error fetching OpenAlex ID for DOI 10.5281/zenodo.3987634: 404 Client Error: NOT FOUND for url: https://api.openalex.org/works/https://doi.org/10.5281/zenodo.3987634\n",
            "Error fetching OpenAlex ID for DOI 10.5281/zenodo.4110912: 404 Client Error: NOT FOUND for url: https://api.openalex.org/works/https://doi.org/10.5281/zenodo.4110912\n",
            "Error fetching OpenAlex ID for DOI 10.5281/zenodo.4110937: 404 Client Error: NOT FOUND for url: https://api.openalex.org/works/https://doi.org/10.5281/zenodo.4110937\n",
            "Error fetching OpenAlex ID for DOI 10.5281/zenodo.4009710: 404 Client Error: NOT FOUND for url: https://api.openalex.org/works/https://doi.org/10.5281/zenodo.4009710\n",
            "Error fetching OpenAlex ID for DOI 10.5281/zenodo.3815272: 404 Client Error: NOT FOUND for url: https://api.openalex.org/works/https://doi.org/10.5281/zenodo.3815272\n",
            "Error fetching OpenAlex ID for DOI 10.5281/zenodo.3808663: 404 Client Error: NOT FOUND for url: https://api.openalex.org/works/https://doi.org/10.5281/zenodo.3808663\n",
            "Error fetching OpenAlex ID for DOI 10.5281/zenodo.3338572: 404 Client Error: NOT FOUND for url: https://api.openalex.org/works/https://doi.org/10.5281/zenodo.3338572\n",
            "Error fetching OpenAlex ID for DOI 10.5281/zenodo.3344846: 404 Client Error: NOT FOUND for url: https://api.openalex.org/works/https://doi.org/10.5281/zenodo.3344846\n",
            "Error fetching OpenAlex ID for DOI 10.5281/zenodo.3110686: 404 Client Error: NOT FOUND for url: https://api.openalex.org/works/https://doi.org/10.5281/zenodo.3110686\n",
            "Error fetching OpenAlex ID for DOI 10.5281/zenodo.2653159: 404 Client Error: NOT FOUND for url: https://api.openalex.org/works/https://doi.org/10.5281/zenodo.2653159\n",
            "Error fetching OpenAlex ID for DOI 10.5281/zenodo.3338590: 404 Client Error: NOT FOUND for url: https://api.openalex.org/works/https://doi.org/10.5281/zenodo.3338590\n",
            "Error fetching OpenAlex ID for DOI 10.5281/zenodo.3344925: 404 Client Error: NOT FOUND for url: https://api.openalex.org/works/https://doi.org/10.5281/zenodo.3344925\n",
            "Error fetching OpenAlex ID for DOI 10.5281/zenodo.3344932: 404 Client Error: NOT FOUND for url: https://api.openalex.org/works/https://doi.org/10.5281/zenodo.3344932\n",
            "Error fetching OpenAlex ID for DOI 10.5281/zenodo.3338594: 404 Client Error: NOT FOUND for url: https://api.openalex.org/works/https://doi.org/10.5281/zenodo.3338594\n",
            "Error fetching OpenAlex ID for DOI 10.5281/zenodo.3463779: 404 Client Error: NOT FOUND for url: https://api.openalex.org/works/https://doi.org/10.5281/zenodo.3463779\n",
            "Error fetching OpenAlex ID for DOI 10.5281/zenodo.3344856: 404 Client Error: NOT FOUND for url: https://api.openalex.org/works/https://doi.org/10.5281/zenodo.3344856\n",
            "Error fetching OpenAlex ID for DOI 10.5281/zenodo.3110438: 404 Client Error: NOT FOUND for url: https://api.openalex.org/works/https://doi.org/10.5281/zenodo.3110438\n",
            "Error fetching OpenAlex ID for DOI 10.5281/zenodo.1439069: 404 Client Error: NOT FOUND for url: https://api.openalex.org/works/https://doi.org/10.5281/zenodo.1439069\n",
            "Error fetching OpenAlex ID for DOI 10.21308/recp.47.00: 404 Client Error: NOT FOUND for url: https://api.openalex.org/works/https://doi.org/10.21308/recp.47.00\n",
            "Error fetching OpenAlex ID for DOI 10.5281/zenodo.1438572: 404 Client Error: NOT FOUND for url: https://api.openalex.org/works/https://doi.org/10.5281/zenodo.1438572\n",
            "Error fetching OpenAlex ID for DOI 10.1590/0102-149180/10: 404 Client Error: NOT FOUND for url: https://api.openalex.org/works/https://doi.org/10.1590/0102-149180/10\n",
            "Error fetching OpenAlex ID for DOI 10.5281/zenodo.1510026: 404 Client Error: NOT FOUND for url: https://api.openalex.org/works/https://doi.org/10.5281/zenodo.1510026\n",
            "Error fetching OpenAlex ID for DOI 10.5281/zenodo.1495816: 404 Client Error: NOT FOUND for url: https://api.openalex.org/works/https://doi.org/10.5281/zenodo.1495816\n",
            "Error fetching OpenAlex ID for DOI 10.5281/zenodo.1772470: 404 Client Error: NOT FOUND for url: https://api.openalex.org/works/https://doi.org/10.5281/zenodo.1772470\n",
            "Error fetching OpenAlex ID for DOI 10.1590/0102-011038/103: 404 Client Error: NOT FOUND for url: https://api.openalex.org/works/https://doi.org/10.1590/0102-011038/103\n",
            "Error fetching OpenAlex ID for DOI 10.1590/0102-039068/103: 404 Client Error: NOT FOUND for url: https://api.openalex.org/works/https://doi.org/10.1590/0102-039068/103\n",
            "Error fetching OpenAlex ID for DOI 10.1590/0102-167202/103: 404 Client Error: NOT FOUND for url: https://api.openalex.org/works/https://doi.org/10.1590/0102-167202/103\n",
            "Error fetching OpenAlex ID for DOI 10.1590/0102-069101/103: 404 Client Error: NOT FOUND for url: https://api.openalex.org/works/https://doi.org/10.1590/0102-069101/103\n",
            "Error fetching OpenAlex ID for DOI 10.5380/RSOCP.V24I58.47219: 404 Client Error: NOT FOUND for url: https://api.openalex.org/works/https://doi.org/10.5380/RSOCP.V24I58.47219\n",
            "Error fetching OpenAlex ID for DOI 10.1590/S0104-62762013000100001.: 404 Client Error: NOT FOUND for url: https://api.openalex.org/works/https://doi.org/10.1590/S0104-62762013000100001.\n"
          ]
        }
      ]
    },
    {
      "cell_type": "code",
      "source": [
        "# Drop rows where either DOI or OpenAlex ID is missing\n",
        "df_cleaned = df.dropna()\n",
        "\n",
        "# Convert to dictionary\n",
        "doi_openalex_dict = dict(zip(df_cleaned[\"DOI\"], df_cleaned[\"OpenAlex_ID\"]))"
      ],
      "metadata": {
        "id": "sW_NBCGIPrfw"
      },
      "execution_count": null,
      "outputs": []
    },
    {
      "cell_type": "code",
      "source": [
        "nodelist = []\n",
        "for doi in df_cleaned[\"DOI\"]:\n",
        "  nodelist += [doi_openalex_dict[doi]]"
      ],
      "metadata": {
        "id": "y0SnGHMmRja4"
      },
      "execution_count": null,
      "outputs": []
    },
    {
      "cell_type": "code",
      "source": [
        "SubG = G.subgraph(nodelist)\n",
        "\n",
        "nx.write_graphml(SubG, \"/content/drive/MyDrive/Material_IC/Corpus/Artigos/citation_subnetwork.graphml\")\n"
      ],
      "metadata": {
        "id": "PgqjvpYWRJKT"
      },
      "execution_count": null,
      "outputs": []
    },
    {
      "cell_type": "markdown",
      "source": [
        "Por fim, vejamos a distribuiçao de grau dos vertices:"
      ],
      "metadata": {
        "id": "rXrSGOMzgJcz"
      }
    },
    {
      "cell_type": "code",
      "source": [
        "degree_sequence = sorted((d for n, d in SubG.degree()), reverse=True)\n",
        "dmax = max(degree_sequence)\n",
        "\n",
        "fig = plt.figure(\"Degree of a random graph\", figsize=(8, 8))\n",
        "# Create a gridspec for adding subplots of different sizes\n",
        "axgrid = fig.add_gridspec(5, 4)\n",
        "\n",
        "ax1 = fig.add_subplot(axgrid[3:, :2])\n",
        "ax1.plot(degree_sequence, \"b-\", marker=\"o\")\n",
        "ax1.set_title(\"Degree Rank Plot\")\n",
        "ax1.set_ylabel(\"Degree\")\n",
        "ax1.set_xlabel(\"Rank\")\n",
        "\n",
        "ax2 = fig.add_subplot(axgrid[3:, 2:])\n",
        "ax2.bar(*np.unique(degree_sequence, return_counts=True))\n",
        "ax2.set_title(\"Degree histogram\")\n",
        "ax2.set_xlabel(\"Degree\")\n",
        "ax2.set_ylabel(\"# of Nodes\")\n",
        "\n",
        "fig.tight_layout()\n",
        "plt.show()"
      ],
      "metadata": {
        "colab": {
          "base_uri": "https://localhost:8080/",
          "height": 370
        },
        "id": "exXHbDEJYkM0",
        "outputId": "0c9d6559-d344-4718-96d8-d193e0a00d9d"
      },
      "execution_count": null,
      "outputs": [
        {
          "output_type": "display_data",
          "data": {
            "text/plain": [
              "<Figure size 800x800 with 2 Axes>"
            ],
            "image/png": "[encoded data removed]"
          },
          "metadata": {}
        }
      ]
    },
    {
      "cell_type": "code",
      "source": [
        "degree_sequence = sorted((d for n, d in G.degree()), reverse=True)\n",
        "dmax = max(degree_sequence)\n",
        "\n",
        "fig = plt.figure(\"Degree of a random graph\", figsize=(8, 8))\n",
        "# Create a gridspec for adding subplots of different sizes\n",
        "axgrid = fig.add_gridspec(5, 4)\n",
        "\n",
        "ax1 = fig.add_subplot(axgrid[3:, :2])\n",
        "ax1.plot(degree_sequence, \"b-\", marker=\"o\")\n",
        "ax1.set_title(\"Degree Rank Plot\")\n",
        "ax1.set_ylabel(\"Degree\")\n",
        "ax1.set_xlabel(\"Rank\")\n",
        "\n",
        "ax2 = fig.add_subplot(axgrid[3:, 2:])\n",
        "ax2.bar(*np.unique(degree_sequence, return_counts=True))\n",
        "ax2.set_title(\"Degree histogram\")\n",
        "ax2.set_xlabel(\"Degree\")\n",
        "ax2.set_ylabel(\"# of Nodes\")\n",
        "\n",
        "fig.tight_layout()\n",
        "plt.show()"
      ],
      "metadata": {
        "colab": {
          "base_uri": "https://localhost:8080/",
          "height": 370
        },
        "id": "V6_zuwK4a3_W",
        "outputId": "a4ad21b0-9da3-460e-97e7-244c56520f2b"
      },
      "execution_count": null,
      "outputs": [
        {
          "output_type": "display_data",
          "data": {
            "text/plain": [
              "<Figure size 800x800 with 2 Axes>"
            ],
            "image/png": "[encoded data removed]"
          },
          "metadata": {}
        }
      ]
    }
  ],
  "metadata": {
    "colab": {
      "provenance": [],
      "authorship_tag": "ABX9TyNB5SMZJXNYW88T5ZXp8DDw",
      "include_colab_link": true
    },
    "kernelspec": {
      "display_name": "Python 3",
      "name": "python3"
    },
    "language_info": {
      "name": "python"
    }
  },
  "nbformat": 4,
  "nbformat_minor": 0
}